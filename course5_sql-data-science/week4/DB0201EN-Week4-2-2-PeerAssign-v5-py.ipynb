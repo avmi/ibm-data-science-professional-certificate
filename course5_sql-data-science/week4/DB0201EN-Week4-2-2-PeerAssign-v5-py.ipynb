{
 "cells": [
  {
   "cell_type": "markdown",
   "metadata": {},
   "source": [
    "<a href=\"https://cognitiveclass.ai\"><img src = \"https://ibm.box.com/shared/static/ugcqz6ohbvff804xp84y4kqnvvk3bq1g.png\" width = 300, align = \"center\"></a>\n",
    "\n",
    "<h1 align=center><font size = 5>Assignment: Notebook for Peer Assignment</font></h1>"
   ]
  },
  {
   "cell_type": "markdown",
   "metadata": {},
   "source": [
    "# Introduction\n",
    "\n",
    "Using this Python notebook you will:\n",
    "1. Understand 3 Chicago datasets  \n",
    "1. Load the 3 datasets into 3 tables in a Db2 database\n",
    "1. Execute SQL queries to answer assignment questions "
   ]
  },
  {
   "cell_type": "markdown",
   "metadata": {},
   "source": [
    "## Understand the datasets \n",
    "To complete the assignment problems in this notebook you will be using three datasets that are available on the city of Chicago's Data Portal:\n",
    "1. <a href=\"https://data.cityofchicago.org/Health-Human-Services/Census-Data-Selected-socioeconomic-indicators-in-C/kn9c-c2s2\">Socioeconomic Indicators in Chicago</a>\n",
    "1. <a href=\"https://data.cityofchicago.org/Education/Chicago-Public-Schools-Progress-Report-Cards-2011-/9xs2-f89t\">Chicago Public Schools</a>\n",
    "1. <a href=\"https://data.cityofchicago.org/Public-Safety/Crimes-2001-to-present/ijzp-q8t2\">Chicago Crime Data</a>\n",
    "\n",
    "### 1. Socioeconomic Indicators in Chicago\n",
    "This dataset contains a selection of six socioeconomic indicators of public health significance and a “hardship index,” for each Chicago community area, for the years 2008 – 2012.\n",
    "\n",
    "For this assignment you will use a snapshot of this dataset which can be downloaded from:\n",
    "https://ibm.box.com/shared/static/05c3415cbfbtfnr2fx4atenb2sd361ze.csv\n",
    "\n",
    "A detailed description of this dataset and the original dataset can be obtained from the Chicago Data Portal at:\n",
    "https://data.cityofchicago.org/Health-Human-Services/Census-Data-Selected-socioeconomic-indicators-in-C/kn9c-c2s2\n",
    "\n",
    "\n",
    "\n",
    "### 2. Chicago Public Schools\n",
    "\n",
    "This dataset shows all school level performance data used to create CPS School Report Cards for the 2011-2012 school year. This dataset is provided by the city of Chicago's Data Portal.\n",
    "\n",
    "For this assignment you will use a snapshot of this dataset which can be downloaded from:\n",
    "https://ibm.box.com/shared/static/f9gjvj1gjmxxzycdhplzt01qtz0s7ew7.csv\n",
    "\n",
    "A detailed description of this dataset and the original dataset can be obtained from the Chicago Data Portal at:\n",
    "https://data.cityofchicago.org/Education/Chicago-Public-Schools-Progress-Report-Cards-2011-/9xs2-f89t\n",
    "\n",
    "\n",
    "\n",
    "\n",
    "### 3. Chicago Crime Data \n",
    "\n",
    "This dataset reflects reported incidents of crime (with the exception of murders where data exists for each victim) that occurred in the City of Chicago from 2001 to present, minus the most recent seven days. \n",
    "\n",
    "This dataset is quite large - over 1.5GB in size with over 6.5 million rows. For the purposes of this assignment we will use a much smaller sample of this dataset which can be downloaded from:\n",
    "https://ibm.box.com/shared/static/svflyugsr9zbqy5bmowgswqemfpm1x7f.csv\n",
    "\n",
    "A detailed description of this dataset and the original dataset can be obtained from the Chicago Data Portal at:\n",
    "https://data.cityofchicago.org/Public-Safety/Crimes-2001-to-present/ijzp-q8t2\n"
   ]
  },
  {
   "cell_type": "markdown",
   "metadata": {},
   "source": [
    "### Download the datasets\n",
    "In many cases the dataset to be analyzed is available as a .CSV (comma separated values) file, perhaps on the internet. Click on the links below to download and save the datasets (.CSV files):\n",
    "1. __CENSUS_DATA:__ https://ibm.box.com/shared/static/05c3415cbfbtfnr2fx4atenb2sd361ze.csv\n",
    "1. __CHICAGO_PUBLIC_SCHOOLS__  https://ibm.box.com/shared/static/f9gjvj1gjmxxzycdhplzt01qtz0s7ew7.csv\n",
    "1. __CHICAGO_CRIME_DATA:__ https://ibm.box.com/shared/static/svflyugsr9zbqy5bmowgswqemfpm1x7f.csv\n",
    "\n",
    "__NOTE:__ Ensure you have downloaded the datasets using the links above instead of directly from the Chicago Data Portal. The versions linked here are subsets of the original datasets and have some of the column names modified to be more database friendly which will make it easier to complete this assignment."
   ]
  },
  {
   "cell_type": "markdown",
   "metadata": {},
   "source": [
    "### Store the datasets in database tables\n",
    "To analyze the data using SQL, it first needs to be stored in the database.\n",
    "\n",
    "While it is easier to read the dataset into a Pandas dataframe and then PERSIST it into the database as we saw in Week 3 Lab 3, it results in mapping to default datatypes which may not be optimal for SQL querying. For example a long textual field may map to a CLOB instead of a VARCHAR. \n",
    "\n",
    "Therefore, __it is highly recommended to manually load the table using the database console LOAD tool, as indicated in Week 2 Lab 1 Part II__. The only difference with that lab is that in Step 5 of the instructions you will need to click on create \"(+) New Table\" and specify the name of the table you want to create and then click \"Next\". \n",
    "\n",
    "<img src = \"https://ibm.box.com/shared/static/uc4xjh1uxcc78ks1i18v668simioz4es.jpg\">\n",
    "\n",
    "##### Now open the Db2 console, open the LOAD tool, Select / Drag the .CSV file for the first dataset, Next create a New Table, and then follow the steps on-screen instructions to load the data. Name the new tables as folows:\n",
    "1. __CENSUS_DATA__\n",
    "1. __CHICAGO_PUBLIC_SCHOOLS__\n",
    "1. __CHICAGO_CRIME_DATA__"
   ]
  },
  {
   "cell_type": "markdown",
   "metadata": {},
   "source": [
    "### Connect to the database \n",
    "Let us first load the SQL extension and establish a connection with the database"
   ]
  },
  {
   "cell_type": "code",
   "execution_count": 1,
   "metadata": {},
   "outputs": [],
   "source": [
    "%load_ext sql"
   ]
  },
  {
   "cell_type": "markdown",
   "metadata": {},
   "source": [
    "In the next cell enter your db2 connection string. Recall you created Service Credentials for your Db2 instance in first lab in Week 3. From the __uri__ field of your Db2 service credentials copy everything after db2:// (except the double quote at the end) and paste it in the cell below after ibm_db_sa://\n",
    "\n",
    "<img src =\"https://ibm.box.com/shared/static/hzhkvdyinpupm2wfx49lkr71q9swbpec.jpg\">"
   ]
  },
  {
   "cell_type": "code",
   "execution_count": 2,
   "metadata": {},
   "outputs": [],
   "source": [
    "# Remember the connection string is of the format:\n",
    "# %sql ibm_db_sa://my-username:my-password@my-hostname:my-port/my-db-name\n",
    "# Enter the connection string for your Db2 on Cloud database instance below\n",
    "%sql ibm_db_sa://gzv97359:8-n8qx284qf543c1@dashdb-txn-sbox-yp-lon02-02.services.eu-gb.bluemix.net:50000/BLUDB\n",
    "            \n",
    "import ibm_db\n",
    "\n",
    "dsn_driver = \"ibm_db_sa\"\n",
    "dsn_database = \"BLUDB\"\n",
    "dsn_hostname = \"dashdb-txn-sbox-yp-lon02-02.services.eu-gb.bluemix.net\"\n",
    "dsn_port = \"50000\"\n",
    "dsn_protocol = \"TCPIP\"\n",
    "dsn_uid = \"gzv97359\"\n",
    "dsn_pwd = \"8-n8qx284qf543c1\"\n",
    "\n",
    "dsn = (\n",
    "    \"DRIVER={0};\"\n",
    "    \"DATABASE={1};\"\n",
    "    \"HOSTNAME={2};\"\n",
    "    \"PORT={3};\"\n",
    "    \"PROTOCOL={4};\"\n",
    "    \"UID={5};\"\n",
    "    \"PWD={6};\").format(dsn_driver, dsn_database, dsn_hostname, dsn_port, dsn_protocol, dsn_uid, dsn_pwd)\n",
    "\n",
    "try:\n",
    "    conn = ibm_db.connect(dsn, \"\", \"\")\n",
    "\n",
    "except:\n",
    "    print (\"Unable to connect: \", ibm_db.conn_errormsg() )"
   ]
  },
  {
   "cell_type": "markdown",
   "metadata": {},
   "source": [
    "## Problems\n",
    "Now write and execute SQL queries to solve assignment problems\n",
    "\n",
    "### Problem 1\n",
    "\n",
    "##### Find the total number of crimes recorded in the CRIME table"
   ]
  },
  {
   "cell_type": "code",
   "execution_count": 31,
   "metadata": {},
   "outputs": [
    {
     "name": "stdout",
     "output_type": "stream",
     "text": [
      "533\n"
     ]
    }
   ],
   "source": [
    "# Rows in Crime table\n",
    "query = \"SELECT COUNT(*) FROM CHICAGO_CRIME_DATA\"\n",
    "\n",
    "#Execute the statement\n",
    "result = ibm_db.exec_immediate(conn, query)\n",
    "\n",
    "ibm_db.fetch_row(result)\n",
    "print(ibm_db.result(result, 0))"
   ]
  },
  {
   "cell_type": "markdown",
   "metadata": {},
   "source": [
    "### Problem 2\n",
    "\n",
    "##### Retrieve first 10 rows from the CRIME table\n"
   ]
  },
  {
   "cell_type": "code",
   "execution_count": 20,
   "metadata": {
    "collapsed": true
   },
   "outputs": [
    {
     "name": "stdout",
     "output_type": "stream",
     "text": [
      "{'ID': 3512276, 'CASE_NUMBER': 'HK587712', 'DATE': '08/28/2004 05:50:56 PM', 'BLOCK': '047XX S KEDZIE AVE', 'IUCR': '890', 'PRIMARY_TYPE': 'THEFT', 'DESCRIPTION': 'FROM BUILDING', 'LOCATION_DESCRIPTION': 'SMALL RETAIL STORE', 'ARREST': 'FALSE', 'DOMESTIC': 'FALSE', 'BEAT': 911, 'DISTRICT': 9, 'WARD': 14, 'COMMUNITY_AREA_NUMBER': 58, 'FBICODE': '6', 'X_COORDINATE': 1155838, 'Y_COORDINATE': 1873050, 'YEAR': 2004, 'UPDATEDON': '02/10/2018 03:50:01 PM', 'LATITUDE': '41.80744050', 'LONGITUDE': '-87.70395585', 'LOCATION': '(41.8074405, -87.703955849)'}\n",
      "{'ID': 3406613, 'CASE_NUMBER': 'HK456306', 'DATE': '06/26/2004 12:40:00 PM', 'BLOCK': '009XX N CENTRAL PARK AVE', 'IUCR': '820', 'PRIMARY_TYPE': 'THEFT', 'DESCRIPTION': '$500 AND UNDER', 'LOCATION_DESCRIPTION': 'OTHER', 'ARREST': 'FALSE', 'DOMESTIC': 'FALSE', 'BEAT': 1112, 'DISTRICT': 11, 'WARD': 27, 'COMMUNITY_AREA_NUMBER': 23, 'FBICODE': '6', 'X_COORDINATE': 1152206, 'Y_COORDINATE': 1906127, 'YEAR': 2004, 'UPDATEDON': '02/28/2018 03:56:25 PM', 'LATITUDE': '41.89827996', 'LONGITUDE': '-87.71640551', 'LOCATION': '(41.898279962, -87.716405505)'}\n",
      "{'ID': 8002131, 'CASE_NUMBER': 'HT233595', 'DATE': '04/04/2011 05:45:00 AM', 'BLOCK': '043XX S WABASH AVE', 'IUCR': '820', 'PRIMARY_TYPE': 'THEFT', 'DESCRIPTION': '$500 AND UNDER', 'LOCATION_DESCRIPTION': 'NURSING HOME/RETIREMENT HOME', 'ARREST': 'FALSE', 'DOMESTIC': 'FALSE', 'BEAT': 221, 'DISTRICT': 2, 'WARD': 3, 'COMMUNITY_AREA_NUMBER': 38, 'FBICODE': '6', 'X_COORDINATE': 1177436, 'Y_COORDINATE': 1876313, 'YEAR': 2011, 'UPDATEDON': '02/10/2018 03:50:01 PM', 'LATITUDE': '41.81593313', 'LONGITUDE': '-87.62464213', 'LOCATION': '(41.815933131, -87.624642127)'}\n",
      "{'ID': 7903289, 'CASE_NUMBER': 'HT133522', 'DATE': '12/30/2010 04:30:00 PM', 'BLOCK': '083XX S KINGSTON AVE', 'IUCR': '840', 'PRIMARY_TYPE': 'THEFT', 'DESCRIPTION': 'FINANCIAL ID THEFT: OVER $300', 'LOCATION_DESCRIPTION': 'RESIDENCE', 'ARREST': 'FALSE', 'DOMESTIC': 'FALSE', 'BEAT': 423, 'DISTRICT': 4, 'WARD': 7, 'COMMUNITY_AREA_NUMBER': 46, 'FBICODE': '6', 'X_COORDINATE': 1194622, 'Y_COORDINATE': 1850125, 'YEAR': 2010, 'UPDATEDON': '02/10/2018 03:50:01 PM', 'LATITUDE': '41.74366532', 'LONGITUDE': '-87.56246276', 'LOCATION': '(41.743665322, -87.562462756)'}\n",
      "{'ID': 10402076, 'CASE_NUMBER': 'HZ138551', 'DATE': '02/02/2016 07:30:00 PM', 'BLOCK': '033XX W 66TH ST', 'IUCR': '820', 'PRIMARY_TYPE': 'THEFT', 'DESCRIPTION': '$500 AND UNDER', 'LOCATION_DESCRIPTION': 'ALLEY', 'ARREST': 'FALSE', 'DOMESTIC': 'FALSE', 'BEAT': 831, 'DISTRICT': 8, 'WARD': 15, 'COMMUNITY_AREA_NUMBER': 66, 'FBICODE': '6', 'X_COORDINATE': 1155240, 'Y_COORDINATE': 1860661, 'YEAR': 2016, 'UPDATEDON': '02/10/2018 03:50:01 PM', 'LATITUDE': '41.77345530', 'LONGITUDE': '-87.70648047', 'LOCATION': '(41.773455295, -87.706480471)'}\n",
      "{'ID': 7732712, 'CASE_NUMBER': 'HS540106', 'DATE': '09/29/2010 07:59:00 AM', 'BLOCK': '006XX W CHICAGO AVE', 'IUCR': '810', 'PRIMARY_TYPE': 'THEFT', 'DESCRIPTION': 'OVER $500', 'LOCATION_DESCRIPTION': 'PARKING LOT/GARAGE(NON.RESID.)', 'ARREST': 'FALSE', 'DOMESTIC': 'FALSE', 'BEAT': 1323, 'DISTRICT': 12, 'WARD': 27, 'COMMUNITY_AREA_NUMBER': 24, 'FBICODE': '6', 'X_COORDINATE': 1171668, 'Y_COORDINATE': 1905607, 'YEAR': 2010, 'UPDATEDON': '02/10/2018 03:50:01 PM', 'LATITUDE': '41.89644677', 'LONGITUDE': '-87.64493868', 'LOCATION': '(41.896446772, -87.644938678)'}\n",
      "{'ID': 10769475, 'CASE_NUMBER': 'HZ534771', 'DATE': '11/30/2016 01:15:00 AM', 'BLOCK': '050XX N KEDZIE AVE', 'IUCR': '810', 'PRIMARY_TYPE': 'THEFT', 'DESCRIPTION': 'OVER $500', 'LOCATION_DESCRIPTION': 'STREET', 'ARREST': 'FALSE', 'DOMESTIC': 'FALSE', 'BEAT': 1713, 'DISTRICT': 17, 'WARD': 33, 'COMMUNITY_AREA_NUMBER': 14, 'FBICODE': '6', 'X_COORDINATE': 1154133, 'Y_COORDINATE': 1933314, 'YEAR': 2016, 'UPDATEDON': '02/10/2018 03:50:01 PM', 'LATITUDE': '41.97284491', 'LONGITUDE': '-87.70860008', 'LOCATION': '(41.972844913, -87.708600079)'}\n",
      "{'ID': 4494340, 'CASE_NUMBER': 'HL793243', 'DATE': '12/16/2005 04:45:00 PM', 'BLOCK': '005XX E PERSHING RD', 'IUCR': '860', 'PRIMARY_TYPE': 'THEFT', 'DESCRIPTION': 'RETAIL THEFT', 'LOCATION_DESCRIPTION': 'GROCERY FOOD STORE', 'ARREST': 'TRUE', 'DOMESTIC': 'FALSE', 'BEAT': 213, 'DISTRICT': 2, 'WARD': 3, 'COMMUNITY_AREA_NUMBER': 38, 'FBICODE': '6', 'X_COORDINATE': 1180448, 'Y_COORDINATE': 1879234, 'YEAR': 2005, 'UPDATEDON': '02/28/2018 03:56:25 PM', 'LATITUDE': '41.82387989', 'LONGITUDE': '-87.61350386', 'LOCATION': '(41.823879885, -87.613503857)'}\n",
      "{'ID': 3778925, 'CASE_NUMBER': 'HL149610', 'DATE': '01/28/2005 05:00:00 PM', 'BLOCK': '100XX S WASHTENAW AVE', 'IUCR': '810', 'PRIMARY_TYPE': 'THEFT', 'DESCRIPTION': 'OVER $500', 'LOCATION_DESCRIPTION': 'STREET', 'ARREST': 'FALSE', 'DOMESTIC': 'FALSE', 'BEAT': 2211, 'DISTRICT': 22, 'WARD': 19, 'COMMUNITY_AREA_NUMBER': 72, 'FBICODE': '6', 'X_COORDINATE': 1160129, 'Y_COORDINATE': 1838040, 'YEAR': 2005, 'UPDATEDON': '02/28/2018 03:56:25 PM', 'LATITUDE': '41.71128051', 'LONGITUDE': '-87.68917910', 'LOCATION': '(41.711280513, -87.689179097)'}\n",
      "{'ID': 3324217, 'CASE_NUMBER': 'HK361551', 'DATE': '05/13/2004 02:15:00 PM', 'BLOCK': '033XX W BELMONT AVE', 'IUCR': '820', 'PRIMARY_TYPE': 'THEFT', 'DESCRIPTION': '$500 AND UNDER', 'LOCATION_DESCRIPTION': 'SMALL RETAIL STORE', 'ARREST': 'FALSE', 'DOMESTIC': 'FALSE', 'BEAT': 1733, 'DISTRICT': 17, 'WARD': 35, 'COMMUNITY_AREA_NUMBER': 21, 'FBICODE': '6', 'X_COORDINATE': 1153590, 'Y_COORDINATE': 1921084, 'YEAR': 2004, 'UPDATEDON': '02/28/2018 03:56:25 PM', 'LATITUDE': '41.93929582', 'LONGITUDE': '-87.71092344', 'LOCATION': '(41.939295821, -87.710923442)'}\n"
     ]
    }
   ],
   "source": [
    "query = \"SELECT * FROM CHICAGO_CRIME_DATA LIMIT 10\"\n",
    "\n",
    "#Execute the statement\n",
    "result = ibm_db.exec_immediate(conn, query)\n",
    "\n",
    "row = ibm_db.fetch_assoc(result)\n",
    "while row != False:\n",
    "    print(row)\n",
    "    row = ibm_db.fetch_assoc(result)\n"
   ]
  },
  {
   "cell_type": "markdown",
   "metadata": {},
   "source": [
    "### Problem 3\n",
    "\n",
    "##### How many crimes involve an arrest?"
   ]
  },
  {
   "cell_type": "code",
   "execution_count": 30,
   "metadata": {
    "collapsed": true
   },
   "outputs": [
    {
     "name": "stdout",
     "output_type": "stream",
     "text": [
      "163\n"
     ]
    }
   ],
   "source": [
    "query = \"SELECT COUNT(*) FROM CHICAGO_CRIME_DATA WHERE ARREST=TRUE\"\n",
    "\n",
    "#Execute the statement\n",
    "result = ibm_db.exec_immediate(conn, query)\n",
    "\n",
    "ibm_db.fetch_row(result)\n",
    "print(ibm_db.result(result, 0))"
   ]
  },
  {
   "cell_type": "markdown",
   "metadata": {},
   "source": [
    "### Problem 4\n",
    "\n",
    "##### Which unique types of crimes have been recorded at GAS STATION locations?\n"
   ]
  },
  {
   "cell_type": "code",
   "execution_count": 24,
   "metadata": {
    "collapsed": true
   },
   "outputs": [
    {
     "name": "stdout",
     "output_type": "stream",
     "text": [
      "CRIMINAL TRESPASS\n",
      "NARCOTICS\n",
      "ROBBERY\n",
      "THEFT\n"
     ]
    }
   ],
   "source": [
    "query = \"SELECT DISTINCT(PRIMARY_TYPE) FROM CHICAGO_CRIME_DATA WHERE LOCATION_DESCRIPTION='GAS STATION'\"\n",
    "\n",
    "#Execute the statement\n",
    "result = ibm_db.exec_immediate(conn, query)\n",
    "\n",
    "row = ibm_db.fetch_assoc(result)\n",
    "while row != False:\n",
    "    print(row['PRIMARY_TYPE'])\n",
    "    row = ibm_db.fetch_assoc(result)\n"
   ]
  },
  {
   "cell_type": "markdown",
   "metadata": {},
   "source": [
    "Hint: Which column lists types of crimes e.g. THEFT?"
   ]
  },
  {
   "cell_type": "markdown",
   "metadata": {},
   "source": [
    "### Problem 5\n",
    "\n",
    "##### In the CENUS_DATA table list all Community Areas whose names start with the letter ‘B’."
   ]
  },
  {
   "cell_type": "code",
   "execution_count": 27,
   "metadata": {
    "collapsed": true
   },
   "outputs": [
    {
     "name": "stdout",
     "output_type": "stream",
     "text": [
      "Belmont Cragin\n",
      "Burnside\n",
      "Brighton Park\n",
      "Bridgeport\n",
      "Beverly\n"
     ]
    }
   ],
   "source": [
    "query = \"SELECT COMMUNITY_AREA_NAME FROM CENSUS_DATA WHERE COMMUNITY_AREA_NAME LIKE 'B%'\"\n",
    "\n",
    "#Execute the statement\n",
    "result = ibm_db.exec_immediate(conn, query)\n",
    "\n",
    "row = ibm_db.fetch_assoc(result)\n",
    "while row != False:\n",
    "    print(row['COMMUNITY_AREA_NAME'])\n",
    "    row = ibm_db.fetch_assoc(result)"
   ]
  },
  {
   "cell_type": "markdown",
   "metadata": {},
   "source": [
    "### Problem 6\n",
    "\n",
    "##### Which schools in Community Areas 10 to 15 are healthy school certified?"
   ]
  },
  {
   "cell_type": "code",
   "execution_count": 35,
   "metadata": {
    "collapsed": true
   },
   "outputs": [
    {
     "name": "stdout",
     "output_type": "stream",
     "text": [
      "Rufus M Hitch Elementary School\n"
     ]
    }
   ],
   "source": [
    "query = \"SELECT NAME_OF_SCHOOL FROM CHICAGO_PUBLIC_SCHOOLS WHERE COMMUNITY_AREA_NUMBER BETWEEN 10 AND 15 AND HEALTHY_SCHOOL_CERTIFIED='Yes'\"\n",
    "\n",
    "#Execute the statement\n",
    "result = ibm_db.exec_immediate(conn, query)\n",
    "\n",
    "row = ibm_db.fetch_assoc(result)\n",
    "while row != False:\n",
    "    print(row['NAME_OF_SCHOOL'])\n",
    "    row = ibm_db.fetch_assoc(result)"
   ]
  },
  {
   "cell_type": "markdown",
   "metadata": {},
   "source": [
    "### Problem 7\n",
    "\n",
    "##### What is the average school Safety Score? "
   ]
  },
  {
   "cell_type": "code",
   "execution_count": 34,
   "metadata": {},
   "outputs": [
    {
     "name": "stdout",
     "output_type": "stream",
     "text": [
      "49.504873\n"
     ]
    }
   ],
   "source": [
    "query = \"SELECT AVG(SAFETY_SCORE) FROM CHICAGO_PUBLIC_SCHOOLS\"\n",
    "\n",
    "#Execute the statement\n",
    "result = ibm_db.exec_immediate(conn, query)\n",
    "\n",
    "ibm_db.fetch_row(result)\n",
    "print(ibm_db.result(result, 0))"
   ]
  },
  {
   "cell_type": "markdown",
   "metadata": {},
   "source": [
    "### Problem 8\n",
    "\n",
    "##### List the top 5 Community Areas by average College Enrollment [number of students] "
   ]
  },
  {
   "cell_type": "code",
   "execution_count": 50,
   "metadata": {},
   "outputs": [
    {
     "name": "stdout",
     "output_type": "stream",
     "text": [
      "ARCHER HEIGHTS\n",
      "BELMONT CRAGIN\n",
      "BRIGHTON PARK\n",
      "MONTCLARE\n",
      "WEST ELSDON\n"
     ]
    }
   ],
   "source": [
    "query = \"\"\"\n",
    "SELECT DISTINCT(COMMUNITY_AREA_NAME)\n",
    "FROM CHICAGO_PUBLIC_SCHOOLS\n",
    "WHERE COMMUNITY_AREA_NUMBER IN (\n",
    "    SELECT COMMUNITY_AREA_NUMBER\n",
    "    FROM CHICAGO_PUBLIC_SCHOOLS\n",
    "    GROUP BY COMMUNITY_AREA_NUMBER\n",
    "    ORDER BY AVG(COLLEGE_ENROLLMENT) DESC\n",
    "    LIMIT 5\n",
    ")\n",
    "\"\"\";\n",
    "\n",
    "#Execute the statement\n",
    "result = ibm_db.exec_immediate(conn, query)\n",
    "\n",
    "row = ibm_db.fetch_assoc(result)\n",
    "while row != False:\n",
    "    print(row['COMMUNITY_AREA_NAME'])\n",
    "    row = ibm_db.fetch_assoc(result)"
   ]
  },
  {
   "cell_type": "markdown",
   "metadata": {},
   "source": [
    "### Problem 9\n",
    "\n",
    "##### Use a sub-query to determine which Community Area has the least value for school Safety Score? "
   ]
  },
  {
   "cell_type": "code",
   "execution_count": 46,
   "metadata": {},
   "outputs": [
    {
     "name": "stdout",
     "output_type": "stream",
     "text": [
      "WASHINGTON PARK\n"
     ]
    }
   ],
   "source": [
    "query = \"\"\"\n",
    "SELECT COMMUNITY_AREA_NAME \n",
    "FROM CHICAGO_PUBLIC_SCHOOLS\n",
    "WHERE COMMUNITY_AREA_NUMBER = (\n",
    "    SELECT COMMUNITY_AREA_NUMBER\n",
    "    FROM CHICAGO_PUBLIC_SCHOOLS\n",
    "    GROUP BY COMMUNITY_AREA_NUMBER\n",
    "    ORDER BY MIN(SAFETY_SCORE)\n",
    "    LIMIT 1\n",
    ")\n",
    "LIMIT 1\n",
    "\"\"\";\n",
    "\n",
    "#Execute the statement\n",
    "result = ibm_db.exec_immediate(conn, query)\n",
    "\n",
    "row = ibm_db.fetch_assoc(result)\n",
    "while row != False:\n",
    "    print(row['COMMUNITY_AREA_NAME'])\n",
    "    row = ibm_db.fetch_assoc(result)"
   ]
  },
  {
   "cell_type": "markdown",
   "metadata": {},
   "source": [
    "### Problem 10\n",
    "\n",
    "##### [Without using an explicit JOIN operator] Find the Per Capita Income of the Community Area which has a school Safety Score of 1."
   ]
  },
  {
   "cell_type": "code",
   "execution_count": 56,
   "metadata": {},
   "outputs": [
    {
     "name": "stdout",
     "output_type": "stream",
     "text": [
      "13785\n"
     ]
    }
   ],
   "source": [
    "query = \"\"\"\n",
    "SELECT CENSUS_DATA.PER_CAPITA_INCOME \n",
    "FROM CENSUS_DATA\n",
    "WHERE COMMUNITY_AREA_NUMBER IN (\n",
    "    SELECT COMMUNITY_AREA_NUMBER\n",
    "    FROM CHICAGO_PUBLIC_SCHOOLS\n",
    "    WHERE SAFETY_SCORE = 1\n",
    "    GROUP BY COMMUNITY_AREA_NUMBER\n",
    ")\n",
    "\"\"\";\n",
    "\n",
    "#Execute the statement\n",
    "result = ibm_db.exec_immediate(conn, query)\n",
    "\n",
    "row = ibm_db.fetch_assoc(result)\n",
    "while row != False:\n",
    "    print(row['PER_CAPITA_INCOME'])\n",
    "    row = ibm_db.fetch_assoc(result)"
   ]
  },
  {
   "cell_type": "markdown",
   "metadata": {},
   "source": [
    "Copyright &copy; 2018 [cognitiveclass.ai](cognitiveclass.ai?utm_source=bducopyrightlink&utm_medium=dswb&utm_campaign=bdu). This notebook and its source code are released under the terms of the [MIT License](https://bigdatauniversity.com/mit-license/).\n"
   ]
  }
 ],
 "metadata": {
  "kernelspec": {
   "display_name": "Python 3",
   "language": "python",
   "name": "python3"
  },
  "language_info": {
   "codemirror_mode": {
    "name": "ipython",
    "version": 3
   },
   "file_extension": ".py",
   "mimetype": "text/x-python",
   "name": "python",
   "nbconvert_exporter": "python",
   "pygments_lexer": "ipython3",
   "version": "3.6.8"
  },
  "widgets": {
   "state": {},
   "version": "1.1.2"
  }
 },
 "nbformat": 4,
 "nbformat_minor": 2
}
